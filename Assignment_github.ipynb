{
 "cells": [
  {
   "cell_type": "code",
   "execution_count": null,
   "metadata": {},
   "outputs": [],
   "source": [
    "# ASSIGNMENT"
   ]
  },
  {
   "cell_type": "markdown",
   "metadata": {},
   "source": [
    "Dowload AMMI Ghana portraits [facelandmark]\n",
    "run the notebook on the new data\n",
    "\n",
    "Run CNN notebook on cat and dog dataset by creating a custom dataset class\n",
    "\n",
    "\n",
    "create a python file for :\n",
    "    \n",
    "    1. dataset.py:\n",
    "    implements return image and category\n",
    "        \n",
    "    2. Model.py:\n",
    "     MODELUsing the CNN model\n",
    "    \n",
    "        \n",
    "    3. Main.py:\n",
    "    train and test\n",
    "        \n",
    "        \n",
    "    4. Readme. md:\n",
    "        Provide detail explanations to how to use the python file\n",
    "        \n",
    "    5. Requirement.txt (Pause on this for now)\n",
    "    \n",
    "    \n",
    "    \n",
    "  dog_cat_classifier\n",
    "      data\n",
    "          dog\n",
    "              cat\n",
    "      dog_cat_ipynb\n",
    "      dataset.py\n",
    "      model.py\n",
    "      main.py\n",
    "      requirement "
   ]
  }
 ],
 "metadata": {
  "kernelspec": {
   "display_name": "Python 3",
   "language": "python",
   "name": "python3"
  },
  "language_info": {
   "codemirror_mode": {
    "name": "ipython",
    "version": 3
   },
   "file_extension": ".py",
   "mimetype": "text/x-python",
   "name": "python",
   "nbconvert_exporter": "python",
   "pygments_lexer": "ipython3",
   "version": "3.7.3"
  }
 },
 "nbformat": 4,
 "nbformat_minor": 2
}
